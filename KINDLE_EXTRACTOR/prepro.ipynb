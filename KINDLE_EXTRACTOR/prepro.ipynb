{
 "cells": [
  {
   "cell_type": "markdown",
   "metadata": {},
   "source": [
    "# Import Libraries"
   ]
  },
  {
   "cell_type": "code",
   "execution_count": 1,
   "metadata": {},
   "outputs": [],
   "source": [
    "import os\n",
    "import sys\n",
    "import numpy as np\n",
    "import pandas as pd\n",
    "\n",
    "# Add the parent directory to the sys.path so that Python can find settings.py\n",
    "sys.path.append('..')\n",
    "\n",
    "# Now import the settings module\n",
    "from settings__LT import clipping_path\n",
    "from settings__LT import NOTION_TOKEN, DATABASE_ID\n",
    "from clipping_processor import ClippingProcessor"
   ]
  },
  {
   "cell_type": "code",
   "execution_count": 2,
   "metadata": {},
   "outputs": [],
   "source": [
    "# Usage:\n",
    "processor = ClippingProcessor()\n",
    "df_final = processor.process_directory(clipping_path)\n"
   ]
  },
  {
   "cell_type": "code",
   "execution_count": 3,
   "metadata": {},
   "outputs": [
    {
     "data": {
      "text/html": [
       "<div>\n",
       "<style scoped>\n",
       "    .dataframe tbody tr th:only-of-type {\n",
       "        vertical-align: middle;\n",
       "    }\n",
       "\n",
       "    .dataframe tbody tr th {\n",
       "        vertical-align: top;\n",
       "    }\n",
       "\n",
       "    .dataframe thead th {\n",
       "        text-align: right;\n",
       "    }\n",
       "</style>\n",
       "<table border=\"1\" class=\"dataframe\">\n",
       "  <thead>\n",
       "    <tr style=\"text-align: right;\">\n",
       "      <th></th>\n",
       "      <th>Title</th>\n",
       "      <th>Start_Pos</th>\n",
       "      <th>End_Pos</th>\n",
       "      <th>Date</th>\n",
       "      <th>Text</th>\n",
       "      <th>Author</th>\n",
       "    </tr>\n",
       "  </thead>\n",
       "  <tbody>\n",
       "    <tr>\n",
       "      <th>0</th>\n",
       "      <td>El enigma de la habitación 622</td>\n",
       "      <td>3118</td>\n",
       "      <td>3122</td>\n",
       "      <td>2023-05-31 23:18:32</td>\n",
       "      <td>—El hombre que sabe hacerla reír sabe hacerla ...</td>\n",
       "      <td>Unknown</td>\n",
       "    </tr>\n",
       "    <tr>\n",
       "      <th>1</th>\n",
       "      <td>El enigma de la habitación 622</td>\n",
       "      <td>8849</td>\n",
       "      <td>8850</td>\n",
       "      <td>2023-06-26 23:00:18</td>\n",
       "      <td>Pues la vida, igual que una novela, tiene que ...</td>\n",
       "      <td>Unknown</td>\n",
       "    </tr>\n",
       "    <tr>\n",
       "      <th>2</th>\n",
       "      <td>La_verdad_sobre_el_caso_Harry_Quebert_Joel_Dic...</td>\n",
       "      <td>321</td>\n",
       "      <td>323</td>\n",
       "      <td>2023-06-29 23:51:59</td>\n",
       "      <td>¿Se arrepiente de haber escrito ese libro? —Qu...</td>\n",
       "      <td>Joel Dicker</td>\n",
       "    </tr>\n",
       "    <tr>\n",
       "      <th>3</th>\n",
       "      <td>La_verdad_sobre_el_caso_Harry_Quebert_Joel_Dic...</td>\n",
       "      <td>1218</td>\n",
       "      <td>1226</td>\n",
       "      <td>2023-07-02 00:34:30</td>\n",
       "      <td>Pero mírese, Marcus, ¡no sabe usted caer! Tien...</td>\n",
       "      <td>Joel Dicker</td>\n",
       "    </tr>\n",
       "    <tr>\n",
       "      <th>4</th>\n",
       "      <td>La_verdad_sobre_el_caso_Harry_Quebert_Joel_Dic...</td>\n",
       "      <td>1255</td>\n",
       "      <td>1256</td>\n",
       "      <td>2023-07-02 00:37:16</td>\n",
       "      <td>«Un texto no es nunca perfecto —me decía—. Sim...</td>\n",
       "      <td>Joel Dicker</td>\n",
       "    </tr>\n",
       "    <tr>\n",
       "      <th>...</th>\n",
       "      <td>...</td>\n",
       "      <td>...</td>\n",
       "      <td>...</td>\n",
       "      <td>...</td>\n",
       "      <td>...</td>\n",
       "      <td>...</td>\n",
       "    </tr>\n",
       "    <tr>\n",
       "      <th>2223</th>\n",
       "      <td>Hábitos atómicos</td>\n",
       "      <td>572</td>\n",
       "      <td>578</td>\n",
       "      <td>2022-02-23 23:42:50</td>\n",
       "      <td>La forma máxima de motivación intrínseca se da...</td>\n",
       "      <td>James Clear</td>\n",
       "    </tr>\n",
       "    <tr>\n",
       "      <th>2224</th>\n",
       "      <td>Hábitos atómicos</td>\n",
       "      <td>583</td>\n",
       "      <td>586</td>\n",
       "      <td>2022-02-23 23:44:06</td>\n",
       "      <td>meta no es leer un libro, la meta es convertir...</td>\n",
       "      <td>James Clear</td>\n",
       "    </tr>\n",
       "    <tr>\n",
       "      <th>2225</th>\n",
       "      <td>El Palestino</td>\n",
       "      <td>2554</td>\n",
       "      <td>2554</td>\n",
       "      <td>2022-02-28 23:36:08</td>\n",
       "      <td>como dice un viejo proverbio árabe: «Con fuerz...</td>\n",
       "      <td>Antonio Salas</td>\n",
       "    </tr>\n",
       "    <tr>\n",
       "      <th>2226</th>\n",
       "      <td>El Palestino</td>\n",
       "      <td>3295</td>\n",
       "      <td>3295</td>\n",
       "      <td>2022-03-08 00:11:27</td>\n",
       "      <td>Anna Politkóvskaya</td>\n",
       "      <td>Antonio Salas</td>\n",
       "    </tr>\n",
       "    <tr>\n",
       "      <th>2227</th>\n",
       "      <td>El Palestino</td>\n",
       "      <td>3834</td>\n",
       "      <td>3836</td>\n",
       "      <td>2022-03-15 23:55:21</td>\n",
       "      <td>Yo no soy policía, ni espía, ni tampoco un gue...</td>\n",
       "      <td>Antonio Salas</td>\n",
       "    </tr>\n",
       "  </tbody>\n",
       "</table>\n",
       "<p>2228 rows × 6 columns</p>\n",
       "</div>"
      ],
      "text/plain": [
       "                                                  Title  Start_Pos  End_Pos  \\\n",
       "0                       El enigma de la habitación 622        3118     3122   \n",
       "1                       El enigma de la habitación 622        8849     8850   \n",
       "2     La_verdad_sobre_el_caso_Harry_Quebert_Joel_Dic...        321      323   \n",
       "3     La_verdad_sobre_el_caso_Harry_Quebert_Joel_Dic...       1218     1226   \n",
       "4     La_verdad_sobre_el_caso_Harry_Quebert_Joel_Dic...       1255     1256   \n",
       "...                                                 ...        ...      ...   \n",
       "2223                                  Hábitos atómicos         572      578   \n",
       "2224                                  Hábitos atómicos         583      586   \n",
       "2225                                      El Palestino        2554     2554   \n",
       "2226                                      El Palestino        3295     3295   \n",
       "2227                                      El Palestino        3834     3836   \n",
       "\n",
       "                    Date                                               Text  \\\n",
       "0    2023-05-31 23:18:32  —El hombre que sabe hacerla reír sabe hacerla ...   \n",
       "1    2023-06-26 23:00:18  Pues la vida, igual que una novela, tiene que ...   \n",
       "2    2023-06-29 23:51:59  ¿Se arrepiente de haber escrito ese libro? —Qu...   \n",
       "3    2023-07-02 00:34:30  Pero mírese, Marcus, ¡no sabe usted caer! Tien...   \n",
       "4    2023-07-02 00:37:16  «Un texto no es nunca perfecto —me decía—. Sim...   \n",
       "...                  ...                                                ...   \n",
       "2223 2022-02-23 23:42:50  La forma máxima de motivación intrínseca se da...   \n",
       "2224 2022-02-23 23:44:06  meta no es leer un libro, la meta es convertir...   \n",
       "2225 2022-02-28 23:36:08  como dice un viejo proverbio árabe: «Con fuerz...   \n",
       "2226 2022-03-08 00:11:27                                 Anna Politkóvskaya   \n",
       "2227 2022-03-15 23:55:21  Yo no soy policía, ni espía, ni tampoco un gue...   \n",
       "\n",
       "             Author  \n",
       "0           Unknown  \n",
       "1           Unknown  \n",
       "2       Joel Dicker  \n",
       "3       Joel Dicker  \n",
       "4       Joel Dicker  \n",
       "...             ...  \n",
       "2223    James Clear  \n",
       "2224    James Clear  \n",
       "2225  Antonio Salas  \n",
       "2226  Antonio Salas  \n",
       "2227  Antonio Salas  \n",
       "\n",
       "[2228 rows x 6 columns]"
      ]
     },
     "execution_count": 3,
     "metadata": {},
     "output_type": "execute_result"
    }
   ],
   "source": [
    "df_final"
   ]
  },
  {
   "cell_type": "code",
   "execution_count": 4,
   "metadata": {},
   "outputs": [],
   "source": [
    "df_final = processor.drop_duplicates()"
   ]
  },
  {
   "cell_type": "code",
   "execution_count": 5,
   "metadata": {},
   "outputs": [
    {
     "data": {
      "text/plain": [
       "<AxesSubplot:xlabel='Text', ylabel='Density'>"
      ]
     },
     "execution_count": 5,
     "metadata": {},
     "output_type": "execute_result"
    },
    {
     "data": {
      "image/png": "[encoded data removed]",
      "text/plain": [
       "<Figure size 640x480 with 1 Axes>"
      ]
     },
     "metadata": {},
     "output_type": "display_data"
    }
   ],
   "source": [
    "import seaborn as sns\n",
    "\n",
    "# change seaborn style to produce more visually appealing plots\n",
    "sns.set_style('darkgrid')\n",
    "\n",
    "sns.kdeplot(df_final['Text'].apply(lambda x: len(x.split())))"
   ]
  },
  {
   "cell_type": "code",
   "execution_count": null,
   "metadata": {},
   "outputs": [],
   "source": []
  }
 ],
 "metadata": {
  "kernelspec": {
   "display_name": "valkiria",
   "language": "python",
   "name": "python3"
  },
  "language_info": {
   "codemirror_mode": {
    "name": "ipython",
    "version": 3
   },
   "file_extension": ".py",
   "mimetype": "text/x-python",
   "name": "python",
   "nbconvert_exporter": "python",
   "pygments_lexer": "ipython3",
   "version": "3.8.13"
  },
  "orig_nbformat": 4
 },
 "nbformat": 4,
 "nbformat_minor": 2
}
